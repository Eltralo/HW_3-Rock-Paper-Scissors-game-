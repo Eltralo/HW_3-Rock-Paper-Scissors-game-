{
  "nbformat": 4,
  "nbformat_minor": 0,
  "metadata": {
    "colab": {
      "provenance": [],
      "include_colab_link": true
    },
    "kernelspec": {
      "name": "python3",
      "display_name": "Python 3"
    },
    "language_info": {
      "name": "python"
    }
  },
  "cells": [
    {
      "cell_type": "markdown",
      "metadata": {
        "id": "view-in-github",
        "colab_type": "text"
      },
      "source": [
        "<a href=\"https://colab.research.google.com/github/Eltralo/HW_3-Rock-Paper-Scissors-game-/blob/main/HW_3_ipynb%22.ipynb\" target=\"_parent\"><img src=\"https://colab.research.google.com/assets/colab-badge.svg\" alt=\"Open In Colab\"/></a>"
      ]
    },
    {
      "cell_type": "markdown",
      "source": [
        "## Rock Paper Scissors game ##"
      ],
      "metadata": {
        "id": "QjL3tKnloh2I"
      }
    },
    {
      "cell_type": "markdown",
      "source": [
        "Для закрепления пройденного материала предлагаем вам следующее задание: используя библиотеку kaggle-environments, которая реализует функционал взаимодействия между виртуальными агентами в рамках нескольких популярных игр, реализовать самостоятельно несколько агентов и сравнить их в игре «камень-ножницы-бумага».** **Текст, выделенный полужирным шрифтом\n",
        "\n"
      ],
      "metadata": {
        "id": "Q_7IxvCLoTG6"
      }
    },
    {
      "cell_type": "markdown",
      "source": [
        "#0 - **rock**\n",
        "#1 - **paper**\n",
        "#2 - **scissors**"
      ],
      "metadata": {
        "id": "dthUDfJyo99m"
      }
    },
    {
      "cell_type": "code",
      "execution_count": 164,
      "metadata": {
        "id": "MXXTuy_o0sjk",
        "outputId": "75d939ec-7e84-4893-844c-0a2e16f35999",
        "colab": {
          "base_uri": "https://localhost:8080/"
        }
      },
      "outputs": [
        {
          "output_type": "stream",
          "name": "stderr",
          "text": [
            "/usr/local/lib/python3.10/dist-packages/ipykernel/ipkernel.py:283: DeprecationWarning: `should_run_async` will not call `transform_cell` automatically in the future. Please pass the result to `transformed_cell` argument and any exception that happen during thetransform in `preprocessing_exc_tuple` in IPython 7.17 and above.\n",
            "  and should_run_async(code)\n"
          ]
        },
        {
          "output_type": "stream",
          "name": "stdout",
          "text": [
            "ERROR: unknown command \"unstall\" - maybe you meant \"uninstall\"\n"
          ]
        }
      ],
      "source": [
        "!pip install -q -U kaggle_environments"
      ]
    },
    {
      "cell_type": "markdown",
      "source": [
        "## Импортирование необходимых библиотек ##"
      ],
      "metadata": {
        "id": "T-_z7Rf9oFrf"
      }
    },
    {
      "cell_type": "code",
      "source": [
        "import numpy as np\n",
        "import pandas as pd\n",
        "import random\n",
        "\n",
        "import matplotlib.pyplot as plt\n",
        "import seaborn as sns\n",
        "\n",
        "from kaggle_environments import make, evaluate"
      ],
      "metadata": {
        "id": "yz23vWHD0wcj"
      },
      "execution_count": 166,
      "outputs": []
    },
    {
      "cell_type": "code",
      "source": [
        "random.seed(45)"
      ],
      "metadata": {
        "id": "FGUPSBaOXzUt"
      },
      "execution_count": 158,
      "outputs": []
    },
    {
      "cell_type": "markdown",
      "source": [
        "##1. Агент, который всегда играет ножницы ##"
      ],
      "metadata": {
        "id": "0kuo6IOxiRub"
      }
    },
    {
      "cell_type": "code",
      "source": [
        "%%writefile rock_agent.py\n",
        "\n",
        "def your_agent(observation, configuration): # функция всегда возращающая камень\n",
        "    return 0"
      ],
      "metadata": {
        "id": "bqTqV7B92rJ6",
        "outputId": "a17283ab-9dc0-46f8-8618-5cf78db2ce1f",
        "colab": {
          "base_uri": "https://localhost:8080/"
        }
      },
      "execution_count": 100,
      "outputs": [
        {
          "output_type": "stream",
          "name": "stdout",
          "text": [
            "Overwriting rock_agent.py\n"
          ]
        }
      ]
    },
    {
      "cell_type": "markdown",
      "source": [
        "##2. Агент, который всегда играет бумагу ##\n"
      ],
      "metadata": {
        "id": "7RF9ozjZKVYK"
      }
    },
    {
      "cell_type": "code",
      "source": [
        "%%writefile paper_agent.py\n",
        "\n",
        "def your_agent(observation, configuration): ## функция, которая всегда возвращает бумагу\n",
        "    return 1"
      ],
      "metadata": {
        "id": "aKVcIVmvKPvN",
        "outputId": "9a583b74-2caa-4836-f1c2-77b595a1150a",
        "colab": {
          "base_uri": "https://localhost:8080/"
        }
      },
      "execution_count": 101,
      "outputs": [
        {
          "output_type": "stream",
          "name": "stdout",
          "text": [
            "Overwriting paper_agent.py\n"
          ]
        }
      ]
    },
    {
      "cell_type": "markdown",
      "source": [
        "## 3.Агент, который всегда играет ножницы ##\n",
        "\n",
        "---\n",
        "\n"
      ],
      "metadata": {
        "id": "3P3Tj2F2Kj9z"
      }
    },
    {
      "cell_type": "markdown",
      "source": [],
      "metadata": {
        "id": "EwBSDG-pKp5T"
      }
    },
    {
      "cell_type": "code",
      "source": [
        "%%writefile scissors.py\n",
        "\n",
        "def your_agent(observation, configuration): ## фуекция, которая всегда возвращает ножницы\n",
        "    return 2"
      ],
      "metadata": {
        "id": "ji2JbE8YKoJj",
        "outputId": "779491bc-cdb9-49e0-bf78-4565d78814ee",
        "colab": {
          "base_uri": "https://localhost:8080/"
        }
      },
      "execution_count": 102,
      "outputs": [
        {
          "output_type": "stream",
          "name": "stdout",
          "text": [
            "Overwriting scissors.py\n"
          ]
        }
      ]
    },
    {
      "cell_type": "markdown",
      "source": [
        "## 4. Агент, повторяющий прошлое действие оппонента, а в противном случае кидает ножницы ##"
      ],
      "metadata": {
        "id": "et1J5hUGigeh"
      }
    },
    {
      "cell_type": "code",
      "source": [
        "\n",
        "%%writefile copy_opponent.py\n",
        "import random\n",
        "\n",
        "def copy_opponent(observation, configuration):\n",
        "\n",
        "    if observation.get('step') > 0:   # если шаг не самый первый\n",
        "        return observation.get('lastOpponentAction',0) # доставть из словаря последнее действие оппонента\n",
        "    else:\n",
        "        return 1\n"
      ],
      "metadata": {
        "id": "7l6Ttw6qi0jk",
        "outputId": "91af2522-be9b-496a-885a-efb6cff15b56",
        "colab": {
          "base_uri": "https://localhost:8080/"
        }
      },
      "execution_count": 159,
      "outputs": [
        {
          "output_type": "stream",
          "name": "stdout",
          "text": [
            "Overwriting copy_opponent.py\n"
          ]
        }
      ]
    },
    {
      "cell_type": "markdown",
      "source": [
        "## 5. Агент, который всегда выбрасывает рандом ##"
      ],
      "metadata": {
        "id": "cG7ZpqGcVTAU"
      }
    },
    {
      "cell_type": "code",
      "source": [
        "%%writefile random_goblin.py\n",
        "\n",
        "\n",
        "import random\n",
        "\n",
        "def random_goblin(observation, configuration):\n",
        "    return random.randint(0, 2)                    # возвращает рандом от 0 до 2"
      ],
      "metadata": {
        "colab": {
          "base_uri": "https://localhost:8080/"
        },
        "id": "yq4TJl28LcCi",
        "outputId": "0dcd8922-bd17-419f-a16b-ebffb6b1ce9c"
      },
      "execution_count": 105,
      "outputs": [
        {
          "output_type": "stream",
          "name": "stdout",
          "text": [
            "Overwriting random_goblin.py\n"
          ]
        }
      ]
    },
    {
      "cell_type": "markdown",
      "source": [
        "## 6. Агент, который считает шаги ##"
      ],
      "metadata": {
        "id": "MO3Ua0qoWGXO"
      }
    },
    {
      "cell_type": "code",
      "source": [
        "%%writefile counter_reactionary.py\n",
        "\n",
        "import random\n",
        "last_counter_action = 0\n",
        "\n",
        "#Функция для определения, выигрывает ли action1 над action2\n",
        "\n",
        "def get_score(action1, action2):\n",
        "\n",
        "    return (action1 - action2) % 3 == 1   # если\n",
        "# Функция агента, которая выбирает действия на основе предыдущих действий противника.\n",
        "\n",
        "def counter_reactionary(observation, configuration):\n",
        "    global last_counter_action\n",
        "    # На первом шаге выбираем случайное действие\n",
        "    if observation.step == 0:\n",
        "        last_counter_action = random.randrange(0, configuration.signs)\n",
        "         # Если последнее наше действие выиграло, выбираем действие, которое проигрывает текущему\n",
        "    elif get_score(last_counter_action, observation.lastOpponentAction) == 1:\n",
        "        last_counter_action = (last_counter_action + 2) % configuration.signs\n",
        "    # Иначе выбираем действие, которое побеждает последнее действие соперника\n",
        "    else:\n",
        "        last_counter_action = (observation.lastOpponentAction + 1) % configuration.signs\n",
        "\n",
        "    return last_counter_action\n",
        "\n",
        "action_histogram = {}"
      ],
      "metadata": {
        "colab": {
          "base_uri": "https://localhost:8080/"
        },
        "id": "-SxsUBPLLb_U",
        "outputId": "6e37ee75-33b4-4ae1-ff4b-2153e4a006e9"
      },
      "execution_count": 167,
      "outputs": [
        {
          "output_type": "stream",
          "name": "stdout",
          "text": [
            "Overwriting counter_reactionary.py\n"
          ]
        }
      ]
    },
    {
      "cell_type": "markdown",
      "source": [
        "## 7. Агент, определяющий статистику##"
      ],
      "metadata": {
        "id": "8MH45bmPWV2U"
      }
    },
    {
      "cell_type": "code",
      "source": [
        "%%writefile agent7.py\n",
        "import random\n",
        "def statistical(observation, configuration):\n",
        "  ## Объявляем глобальную переменную для хранения гистограммы действий\n",
        "    global action_histogram\n",
        "    if observation.step == 0:\n",
        "      # На первом шаге инициализируем гистограмму действий\n",
        "        action_histogram = {}\n",
        "        return\n",
        "    action = observation.lastOpponentAction # Получаем последнее действие противника\n",
        "\n",
        "    #Если действие противника отсутствует в гистограмме, добавляем его\n",
        "    if action not in action_histogram:\n",
        "        action_histogram[action] = 0\n",
        "    action_histogram[action] += 1\n",
        "    mode_action = None    #Переменная для хранения наиболее частого действия\n",
        "    mode_action_count = None  # Переменная для хранения частоты этого действия\n",
        "\n",
        "\n",
        "# Итерируем по всем записям гистограммы для поиска наиболее частого действия\n",
        "    for k, v in action_histogram.items():\n",
        "        if mode_action_count is None or v > mode_action_count:\n",
        "            mode_action = k\n",
        "            mode_action_count = v\n",
        "            continue\n",
        "\n",
        "    return (mode_action + 1) % configuration.signs\n"
      ],
      "metadata": {
        "colab": {
          "base_uri": "https://localhost:8080/"
        },
        "id": "Z-fCYQaBLb8R",
        "outputId": "840e92e0-e93f-44a6-a112-e488e31ad9b9"
      },
      "execution_count": 107,
      "outputs": [
        {
          "output_type": "stream",
          "name": "stdout",
          "text": [
            "Overwriting agent7.py\n"
          ]
        }
      ]
    },
    {
      "cell_type": "markdown",
      "source": [
        "## 8. Агент, который чередует действия (0-1-2-0)##"
      ],
      "metadata": {
        "id": "wdYUhigkW_h9"
      }
    },
    {
      "cell_type": "code",
      "source": [
        "%%writefile agent8.py\n",
        "import random\n",
        "## Функция возвращает число, на 2 большее номера текущего шага, взятого по модулю 3.\n",
        "def alternation(observation, configuration):\n",
        "    return (observation['step'] + 2) % 3\n"
      ],
      "metadata": {
        "colab": {
          "base_uri": "https://localhost:8080/"
        },
        "id": "nI-wMK-sW-cV",
        "outputId": "ea2629f6-f086-4e39-9b53-cbb81ae14898"
      },
      "execution_count": 108,
      "outputs": [
        {
          "output_type": "stream",
          "name": "stdout",
          "text": [
            "Overwriting agent8.py\n"
          ]
        }
      ]
    },
    {
      "cell_type": "markdown",
      "source": [
        "## 9. Агент, который пердпочитает бросать только ножницы и только во второй ход, иначе бросает камень."
      ],
      "metadata": {
        "id": "-__kkvZtb7Lc"
      }
    },
    {
      "cell_type": "markdown",
      "source": [],
      "metadata": {
        "id": "oPz0y75Jb00M"
      }
    },
    {
      "cell_type": "code",
      "source": [
        "%%writefile agent9.py\n",
        "import random\n",
        "def alternation(observation, configuration):\n",
        "    if observation.step == 2:         # Если шаг равен 2, вернуть 1\n",
        "        return 1\n",
        "    else:\n",
        "        return 0                     # Иначе ноль"
      ],
      "metadata": {
        "colab": {
          "base_uri": "https://localhost:8080/"
        },
        "id": "L169w3CvLb5O",
        "outputId": "ed189c8e-1c60-4dec-f172-11d2a60f0aeb"
      },
      "execution_count": 168,
      "outputs": [
        {
          "output_type": "stream",
          "name": "stdout",
          "text": [
            "Overwriting agent9.py\n"
          ]
        }
      ]
    },
    {
      "cell_type": "markdown",
      "source": [],
      "metadata": {
        "id": "s3MBNv9fbqSF"
      }
    },
    {
      "cell_type": "markdown",
      "source": [
        "## 10. Агент, который бросает только камень во второй ход иначе выбирает рандом ##"
      ],
      "metadata": {
        "id": "c2U4rJeCbtGN"
      }
    },
    {
      "cell_type": "code",
      "source": [
        "%%writefile agent10.py\n",
        "import random\n",
        "def alternation(observation, configuration):\n",
        "  if observation.step == 2:        # Если шаг равен 2, вернуть 1\n",
        "     return 0\n",
        "  else:\n",
        "    return random.randint(0, 2)    # Иначе рандомное значение\n"
      ],
      "metadata": {
        "colab": {
          "base_uri": "https://localhost:8080/"
        },
        "id": "HdZWpcQvLb1E",
        "outputId": "811fdaad-3168-44d1-cccd-fd1b89c5fcd3"
      },
      "execution_count": 171,
      "outputs": [
        {
          "output_type": "stream",
          "name": "stdout",
          "text": [
            "Overwriting agent10.py\n"
          ]
        }
      ]
    },
    {
      "cell_type": "markdown",
      "source": [
        "## 11. Агент, который бросает только бумагу во второй ход, иначе выбирает камень ##"
      ],
      "metadata": {
        "id": "rr0ll8BYcgAB"
      }
    },
    {
      "cell_type": "code",
      "source": [
        "%%writefile agent11.py\n",
        "import random\n",
        "def alternation(observation, configuration):\n",
        "  if observation.step == 2:     #Если шаг равен 2, вернуть 1\n",
        "     return 2\n",
        "  else:\n",
        "    return 0\n"
      ],
      "metadata": {
        "colab": {
          "base_uri": "https://localhost:8080/"
        },
        "id": "sL_Pc2HVcs_a",
        "outputId": "33655a67-ccd3-46ee-f2fb-f6869ad5bdb6"
      },
      "execution_count": 172,
      "outputs": [
        {
          "output_type": "stream",
          "name": "stdout",
          "text": [
            "Overwriting agent11.py\n"
          ]
        }
      ]
    },
    {
      "cell_type": "markdown",
      "source": [
        "## 12. Агент, который бросает только ножницы и только в третий ход, в остальных случаях выбирает рандом."
      ],
      "metadata": {
        "id": "yNJOtoRKc6kn"
      }
    },
    {
      "cell_type": "code",
      "source": [
        "\n",
        "%%writefile agent12.py\n",
        "\n",
        "import random\n",
        "def alternation(observation, configuration):\n",
        "    if observation.step == 3:      #Если шаг равен 3, вернуть бумагу\n",
        "     return 2\n",
        "        return 1\n",
        "    else:\n",
        "        return random.randint(0, 2)"
      ],
      "metadata": {
        "colab": {
          "base_uri": "https://localhost:8080/"
        },
        "id": "pD42J-1XdLL3",
        "outputId": "398a81b2-7e09-4319-da16-05a2b13f1299"
      },
      "execution_count": 112,
      "outputs": [
        {
          "output_type": "stream",
          "name": "stdout",
          "text": [
            "Overwriting agent12.py\n"
          ]
        }
      ]
    },
    {
      "cell_type": "markdown",
      "source": [
        "## 13. Агент, который бросает только камень и только в третий ход, в остальных случаях рандом, но между камнем и ножницами.##"
      ],
      "metadata": {
        "id": "xWojTULzdtM7"
      }
    },
    {
      "cell_type": "code",
      "source": [
        "\n",
        "%%writefile agent13.py\n",
        "\n",
        "import random\n",
        "def alternation(observation, configuration):      #Если шаг равен 3, вернуть ножницы\n",
        "    if observation.step == 3:\n",
        "        return 1\n",
        "    else:\n",
        "       return random.randint(0, 1)"
      ],
      "metadata": {
        "colab": {
          "base_uri": "https://localhost:8080/"
        },
        "id": "UnQIuUnzdR7j",
        "outputId": "686ea7a2-3069-4e84-8415-8e1ec72e596f"
      },
      "execution_count": 173,
      "outputs": [
        {
          "output_type": "stream",
          "name": "stdout",
          "text": [
            "Overwriting agent13.py\n"
          ]
        }
      ]
    },
    {
      "cell_type": "markdown",
      "source": [
        "## Запуск соревнований ##"
      ],
      "metadata": {
        "id": "hqHwK920s52v"
      }
    },
    {
      "cell_type": "markdown",
      "source": [
        "Воспользуемся функцией evaluate из библиотеки kaggle_environments с помощью которой запустим наших агентов и проведем эксперимент на заданном количестве игр"
      ],
      "metadata": {
        "id": "ExgIpXUVjbjN"
      }
    },
    {
      "cell_type": "markdown",
      "source": [],
      "metadata": {
        "id": "Asd93mgGS3Cu"
      }
    },
    {
      "cell_type": "code",
      "source": [
        "import itertools\n",
        "import matplotlib.pyplot as plt\n",
        "\n",
        "# Список ваших агентов\n",
        "agents = ['paper_agent.py',\n",
        "    \"rock_agent.py\", 'scissors.py',\n",
        "    \"copy_opponent.py\", 'agent13.py','agent12.py','agent11.py','agent10.py','agent9.py','agent7.py', 'agent8.py','random_goblin.py','counter_reactionary.py']\n",
        "\n",
        "# Функция для запуска турнира\n",
        "def run_tournament(agents):\n",
        "    results = {}\n",
        "\n",
        "    # Генерация всех уникальных пар агентов\n",
        "    for agent1, agent2 in itertools.combinations(agents, 2):\n",
        "        print(f\"Running match between {agent1} and {agent2}\")\n",
        "        # Имитация evaluate для демонстрации\n",
        "        result = evaluate(agent1, agent2)\n",
        "        print(f\"Result: {result}\")\n",
        "\n",
        "        # Сохранение результатов\n",
        "        results[(agent1, agent2)] = result\n",
        "\n",
        "    return results\n",
        "\n",
        "# Имитация функции evaluate (замените на реальную реализацию)\n",
        "def evaluate(agent1, agent2):\n",
        "    # Например: 1 - победа первого агента, 2 - победа второго\n",
        "    # Возьмем случайное решение для примера\n",
        "    import random\n",
        "    return random.choice([1, 2])\n",
        "\n",
        "# Запуск турнира\n",
        "tournament_results = run_tournament(agents)\n",
        "\n",
        "# Вывод результатов турнира\n",
        "for pair, result in tournament_results.items():\n",
        "    print(f\"Result for {pair}: {result}\")\n",
        "\n",
        "# Функция для определения победителя\n",
        "def determine_winner(tournament_results):\n",
        "    scores = {agent: 0 for agent in agents}\n",
        "\n",
        "    for (agent1, agent2), result in tournament_results.items():\n",
        "        if result == 1:  # agent1 выиграл\n",
        "            scores[agent1] += 1\n",
        "        elif result == 2:  # agent2 выиграл\n",
        "            scores[agent2] += 1\n",
        "\n",
        "    return scores\n",
        "\n",
        "# Определение победителей\n",
        "winners = determine_winner(tournament_results)\n",
        "\n",
        "# Построение гистограммы\n",
        "plt.figure(figsize=(10, 6))\n",
        "plt.bar(winners.keys(), winners.values())\n",
        "plt.xticks(rotation=90)\n",
        "plt.xlabel('Агенты')\n",
        "plt.ylabel('Количество побед')\n",
        "plt.title('Результаты турнира')\n",
        "plt.show()"
      ],
      "metadata": {
        "colab": {
          "base_uri": "https://localhost:8080/",
          "height": 1000
        },
        "id": "2hC4uDX3mBXQ",
        "outputId": "a159ea63-fab2-4e8d-dfc6-a6463a0ab2e8"
      },
      "execution_count": 179,
      "outputs": [
        {
          "output_type": "stream",
          "name": "stdout",
          "text": [
            "Running match between paper_agent.py and rock_agent.py\n",
            "Result: 2\n",
            "Running match between paper_agent.py and scissors.py\n",
            "Result: 1\n",
            "Running match between paper_agent.py and copy_opponent.py\n",
            "Result: 1\n",
            "Running match between paper_agent.py and agent13.py\n",
            "Result: 1\n",
            "Running match between paper_agent.py and agent12.py\n",
            "Result: 2\n",
            "Running match between paper_agent.py and agent11.py\n",
            "Result: 1\n",
            "Running match between paper_agent.py and agent10.py\n",
            "Result: 1\n",
            "Running match between paper_agent.py and agent9.py\n",
            "Result: 2\n",
            "Running match between paper_agent.py and agent7.py\n",
            "Result: 1\n",
            "Running match between paper_agent.py and agent8.py\n",
            "Result: 2\n",
            "Running match between paper_agent.py and random_goblin.py\n",
            "Result: 1\n",
            "Running match between paper_agent.py and counter_reactionary.py\n",
            "Result: 1\n",
            "Running match between rock_agent.py and scissors.py\n",
            "Result: 2\n",
            "Running match between rock_agent.py and copy_opponent.py\n",
            "Result: 1\n",
            "Running match between rock_agent.py and agent13.py\n",
            "Result: 2\n",
            "Running match between rock_agent.py and agent12.py\n",
            "Result: 2\n",
            "Running match between rock_agent.py and agent11.py\n",
            "Result: 1\n",
            "Running match between rock_agent.py and agent10.py\n",
            "Result: 1\n",
            "Running match between rock_agent.py and agent9.py\n",
            "Result: 2\n",
            "Running match between rock_agent.py and agent7.py\n",
            "Result: 2\n",
            "Running match between rock_agent.py and agent8.py\n",
            "Result: 1\n",
            "Running match between rock_agent.py and random_goblin.py\n",
            "Result: 1\n",
            "Running match between rock_agent.py and counter_reactionary.py\n",
            "Result: 1\n",
            "Running match between scissors.py and copy_opponent.py\n",
            "Result: 2\n",
            "Running match between scissors.py and agent13.py\n",
            "Result: 1\n",
            "Running match between scissors.py and agent12.py\n",
            "Result: 1\n",
            "Running match between scissors.py and agent11.py\n",
            "Result: 1\n",
            "Running match between scissors.py and agent10.py\n",
            "Result: 1\n",
            "Running match between scissors.py and agent9.py\n",
            "Result: 2\n",
            "Running match between scissors.py and agent7.py\n",
            "Result: 1\n",
            "Running match between scissors.py and agent8.py\n",
            "Result: 1\n",
            "Running match between scissors.py and random_goblin.py\n",
            "Result: 1\n",
            "Running match between scissors.py and counter_reactionary.py\n",
            "Result: 2\n",
            "Running match between copy_opponent.py and agent13.py\n",
            "Result: 2\n",
            "Running match between copy_opponent.py and agent12.py\n",
            "Result: 1\n",
            "Running match between copy_opponent.py and agent11.py\n",
            "Result: 2\n",
            "Running match between copy_opponent.py and agent10.py\n",
            "Result: 1\n",
            "Running match between copy_opponent.py and agent9.py\n",
            "Result: 2\n",
            "Running match between copy_opponent.py and agent7.py\n",
            "Result: 1\n",
            "Running match between copy_opponent.py and agent8.py\n",
            "Result: 1\n",
            "Running match between copy_opponent.py and random_goblin.py\n",
            "Result: 1\n",
            "Running match between copy_opponent.py and counter_reactionary.py\n",
            "Result: 2\n",
            "Running match between agent13.py and agent12.py\n",
            "Result: 2\n",
            "Running match between agent13.py and agent11.py\n",
            "Result: 2\n",
            "Running match between agent13.py and agent10.py\n",
            "Result: 1\n",
            "Running match between agent13.py and agent9.py\n",
            "Result: 1\n",
            "Running match between agent13.py and agent7.py\n",
            "Result: 1\n",
            "Running match between agent13.py and agent8.py\n",
            "Result: 1\n",
            "Running match between agent13.py and random_goblin.py\n",
            "Result: 1\n",
            "Running match between agent13.py and counter_reactionary.py\n",
            "Result: 2\n",
            "Running match between agent12.py and agent11.py\n",
            "Result: 2\n",
            "Running match between agent12.py and agent10.py\n",
            "Result: 1\n",
            "Running match between agent12.py and agent9.py\n",
            "Result: 1\n",
            "Running match between agent12.py and agent7.py\n",
            "Result: 1\n",
            "Running match between agent12.py and agent8.py\n",
            "Result: 2\n",
            "Running match between agent12.py and random_goblin.py\n",
            "Result: 1\n",
            "Running match between agent12.py and counter_reactionary.py\n",
            "Result: 1\n",
            "Running match between agent11.py and agent10.py\n",
            "Result: 1\n",
            "Running match between agent11.py and agent9.py\n",
            "Result: 1\n",
            "Running match between agent11.py and agent7.py\n",
            "Result: 1\n",
            "Running match between agent11.py and agent8.py\n",
            "Result: 2\n",
            "Running match between agent11.py and random_goblin.py\n",
            "Result: 2\n",
            "Running match between agent11.py and counter_reactionary.py\n",
            "Result: 2\n",
            "Running match between agent10.py and agent9.py\n",
            "Result: 2\n",
            "Running match between agent10.py and agent7.py\n",
            "Result: 2\n",
            "Running match between agent10.py and agent8.py\n",
            "Result: 2\n",
            "Running match between agent10.py and random_goblin.py\n",
            "Result: 2\n",
            "Running match between agent10.py and counter_reactionary.py\n",
            "Result: 1\n",
            "Running match between agent9.py and agent7.py\n",
            "Result: 2\n",
            "Running match between agent9.py and agent8.py\n",
            "Result: 1\n",
            "Running match between agent9.py and random_goblin.py\n",
            "Result: 1\n",
            "Running match between agent9.py and counter_reactionary.py\n",
            "Result: 1\n",
            "Running match between agent7.py and agent8.py\n",
            "Result: 1\n",
            "Running match between agent7.py and random_goblin.py\n",
            "Result: 2\n",
            "Running match between agent7.py and counter_reactionary.py\n",
            "Result: 1\n",
            "Running match between agent8.py and random_goblin.py\n",
            "Result: 2\n",
            "Running match between agent8.py and counter_reactionary.py\n",
            "Result: 2\n",
            "Running match between random_goblin.py and counter_reactionary.py\n",
            "Result: 2\n",
            "Result for ('paper_agent.py', 'rock_agent.py'): 2\n",
            "Result for ('paper_agent.py', 'scissors.py'): 1\n",
            "Result for ('paper_agent.py', 'copy_opponent.py'): 1\n",
            "Result for ('paper_agent.py', 'agent13.py'): 1\n",
            "Result for ('paper_agent.py', 'agent12.py'): 2\n",
            "Result for ('paper_agent.py', 'agent11.py'): 1\n",
            "Result for ('paper_agent.py', 'agent10.py'): 1\n",
            "Result for ('paper_agent.py', 'agent9.py'): 2\n",
            "Result for ('paper_agent.py', 'agent7.py'): 1\n",
            "Result for ('paper_agent.py', 'agent8.py'): 2\n",
            "Result for ('paper_agent.py', 'random_goblin.py'): 1\n",
            "Result for ('paper_agent.py', 'counter_reactionary.py'): 1\n",
            "Result for ('rock_agent.py', 'scissors.py'): 2\n",
            "Result for ('rock_agent.py', 'copy_opponent.py'): 1\n",
            "Result for ('rock_agent.py', 'agent13.py'): 2\n",
            "Result for ('rock_agent.py', 'agent12.py'): 2\n",
            "Result for ('rock_agent.py', 'agent11.py'): 1\n",
            "Result for ('rock_agent.py', 'agent10.py'): 1\n",
            "Result for ('rock_agent.py', 'agent9.py'): 2\n",
            "Result for ('rock_agent.py', 'agent7.py'): 2\n",
            "Result for ('rock_agent.py', 'agent8.py'): 1\n",
            "Result for ('rock_agent.py', 'random_goblin.py'): 1\n",
            "Result for ('rock_agent.py', 'counter_reactionary.py'): 1\n",
            "Result for ('scissors.py', 'copy_opponent.py'): 2\n",
            "Result for ('scissors.py', 'agent13.py'): 1\n",
            "Result for ('scissors.py', 'agent12.py'): 1\n",
            "Result for ('scissors.py', 'agent11.py'): 1\n",
            "Result for ('scissors.py', 'agent10.py'): 1\n",
            "Result for ('scissors.py', 'agent9.py'): 2\n",
            "Result for ('scissors.py', 'agent7.py'): 1\n",
            "Result for ('scissors.py', 'agent8.py'): 1\n",
            "Result for ('scissors.py', 'random_goblin.py'): 1\n",
            "Result for ('scissors.py', 'counter_reactionary.py'): 2\n",
            "Result for ('copy_opponent.py', 'agent13.py'): 2\n",
            "Result for ('copy_opponent.py', 'agent12.py'): 1\n",
            "Result for ('copy_opponent.py', 'agent11.py'): 2\n",
            "Result for ('copy_opponent.py', 'agent10.py'): 1\n",
            "Result for ('copy_opponent.py', 'agent9.py'): 2\n",
            "Result for ('copy_opponent.py', 'agent7.py'): 1\n",
            "Result for ('copy_opponent.py', 'agent8.py'): 1\n",
            "Result for ('copy_opponent.py', 'random_goblin.py'): 1\n",
            "Result for ('copy_opponent.py', 'counter_reactionary.py'): 2\n",
            "Result for ('agent13.py', 'agent12.py'): 2\n",
            "Result for ('agent13.py', 'agent11.py'): 2\n",
            "Result for ('agent13.py', 'agent10.py'): 1\n",
            "Result for ('agent13.py', 'agent9.py'): 1\n",
            "Result for ('agent13.py', 'agent7.py'): 1\n",
            "Result for ('agent13.py', 'agent8.py'): 1\n",
            "Result for ('agent13.py', 'random_goblin.py'): 1\n",
            "Result for ('agent13.py', 'counter_reactionary.py'): 2\n",
            "Result for ('agent12.py', 'agent11.py'): 2\n",
            "Result for ('agent12.py', 'agent10.py'): 1\n",
            "Result for ('agent12.py', 'agent9.py'): 1\n",
            "Result for ('agent12.py', 'agent7.py'): 1\n",
            "Result for ('agent12.py', 'agent8.py'): 2\n",
            "Result for ('agent12.py', 'random_goblin.py'): 1\n",
            "Result for ('agent12.py', 'counter_reactionary.py'): 1\n",
            "Result for ('agent11.py', 'agent10.py'): 1\n",
            "Result for ('agent11.py', 'agent9.py'): 1\n",
            "Result for ('agent11.py', 'agent7.py'): 1\n",
            "Result for ('agent11.py', 'agent8.py'): 2\n",
            "Result for ('agent11.py', 'random_goblin.py'): 2\n",
            "Result for ('agent11.py', 'counter_reactionary.py'): 2\n",
            "Result for ('agent10.py', 'agent9.py'): 2\n",
            "Result for ('agent10.py', 'agent7.py'): 2\n",
            "Result for ('agent10.py', 'agent8.py'): 2\n",
            "Result for ('agent10.py', 'random_goblin.py'): 2\n",
            "Result for ('agent10.py', 'counter_reactionary.py'): 1\n",
            "Result for ('agent9.py', 'agent7.py'): 2\n",
            "Result for ('agent9.py', 'agent8.py'): 1\n",
            "Result for ('agent9.py', 'random_goblin.py'): 1\n",
            "Result for ('agent9.py', 'counter_reactionary.py'): 1\n",
            "Result for ('agent7.py', 'agent8.py'): 1\n",
            "Result for ('agent7.py', 'random_goblin.py'): 2\n",
            "Result for ('agent7.py', 'counter_reactionary.py'): 1\n",
            "Result for ('agent8.py', 'random_goblin.py'): 2\n",
            "Result for ('agent8.py', 'counter_reactionary.py'): 2\n",
            "Result for ('random_goblin.py', 'counter_reactionary.py'): 2\n"
          ]
        },
        {
          "output_type": "display_data",
          "data": {
            "text/plain": [
              "<Figure size 1000x600 with 1 Axes>"
            ],
            "image/png": "[encoded data removed]"
          },
          "metadata": {}
        }
      ]
    }
  ]
}